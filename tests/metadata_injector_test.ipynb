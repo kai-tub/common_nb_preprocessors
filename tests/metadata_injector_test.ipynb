{
 "cells": [
  {
   "cell_type": "code",
   "execution_count": null,
   "metadata": {},
   "outputs": [],
   "source": [
    "import nbformat\n",
    "from common_nb_preprocessors.metadata_injector import MetaDataInjectorPreprocessor, GlobalMetaDataInjectorPreprocessor\n",
    "\n",
    "def _make_tiny_nb():\n",
    "    nb = nbformat.v4.new_notebook()\n",
    "    nb.cells.append(nbformat.v4.new_code_cell(\"# hide\\nimport os\"))\n",
    "    nb.cells.append(nbformat.v4.new_markdown_cell(\"# This is the actual title\"))\n",
    "    return nb\n",
    "\n",
    "nb = _make_tiny_nb()\n",
    "nb, _ = MetaDataInjectorPreprocessor(strings=(\"hide\",), prefix=\"#\").preprocess(\n",
    "    nb, None\n",
    ")\n",
    "assert nb.cells[0][\"source\"] == \"import os\"\n",
    "assert nb.cells[0][\"metadata\"][\"tags\"][0] == \"hide\"\n",
    "# check idempotency\n",
    "nb, _ = MetaDataInjectorPreprocessor(strings=(\"hide\",), prefix=\"#\").preprocess(\n",
    "    nb, None\n",
    ")\n",
    "assert nb.cells[0][\"metadata\"][\"tags\"][0] == \"hide\"\n",
    "\n",
    "nb = _make_tiny_nb()\n",
    "nb, _ = MetaDataInjectorPreprocessor(strings=(\"hide\",), prefix=\"#\", remove_line=False).preprocess(\n",
    "    nb, None\n",
    ")\n",
    "assert nb.cells[0][\"source\"] == \"# hide\\nimport os\"\n",
    "assert nb.cells[0][\"metadata\"][\"tags\"][0] == \"hide\""
   ]
  },
  {
   "cell_type": "code",
   "execution_count": null,
   "metadata": {},
   "outputs": [],
   "source": [
    "nb = nbformat.v4.new_notebook()\n",
    "nb.cells.append(nbformat.v4.new_code_cell(\"# publish true\"))\n",
    "parsed_nb, _ = GlobalMetaDataInjectorPreprocessor(keys=(\"publish\",)).preprocess(\n",
    "    nb, None\n",
    ")\n",
    "assert parsed_nb[\"metadata\"][\"publish\"] == \"true\"\n",
    "\n",
    "nb.cells.append(nbformat.v4.new_code_cell(\"# publish false\"))\n",
    "parsed_nb, _ = GlobalMetaDataInjectorPreprocessor(keys=(\"publish\",)).preprocess(\n",
    "    nb, None\n",
    ")\n",
    "# will overwrite if global is defined multiple times.\n",
    "assert parsed_nb[\"metadata\"][\"publish\"] == \"false\"\n",
    "\n",
    "nb = nbformat.v4.new_notebook()\n",
    "nb.cells.append(nbformat.v4.new_code_cell(\"# key=value\"))\n",
    "parsed_nb, _ = GlobalMetaDataInjectorPreprocessor(keys=(\"key\",), delimiter=\"=\").preprocess(\n",
    "    nb, None\n",
    ")\n",
    "assert parsed_nb[\"metadata\"][\"key\"] == \"value\""
   ]
  },
  {
   "cell_type": "code",
   "execution_count": null,
   "metadata": {},
   "outputs": [],
   "source": [
    "import nbformat\n",
    "from common_nb_preprocessors.metadata_injector import jupyter_book_metadata_injector\n",
    "\n",
    "nb = nbformat.v4.new_notebook()\n",
    "nb.cells.append(nbformat.v4.new_code_cell(\"# hide-input \\n#hide-output\\t\\nimport os\"))\n",
    "nbstr = nbformat.writes(nb)\n",
    "out_nb = jupyter_book_metadata_injector(nbstr)\n",
    "assert \"hide-input\" in out_nb.cells[0][\"metadata\"][\"tags\"]\n",
    "assert \"hide-output\" in out_nb.cells[0][\"metadata\"][\"tags\"]"
   ]
  },
  {
   "cell_type": "code",
   "execution_count": null,
   "metadata": {},
   "outputs": [],
   "source": []
  }
 ],
 "metadata": {
  "interpreter": {
   "hash": "31f2aee4e71d21fbe5cf8b01ff0e069b9275f58929596ceb00d14d90e3e16cd6"
  },
  "kernelspec": {
   "display_name": "Python 3 (ipykernel)",
   "language": "python",
   "name": "python3"
  },
  "language_info": {
   "codemirror_mode": {
    "name": "ipython",
    "version": 3
   },
   "file_extension": ".py",
   "mimetype": "text/x-python",
   "name": "python",
   "nbconvert_exporter": "python",
   "pygments_lexer": "ipython3",
   "version": "3.9.7"
  }
 },
 "nbformat": 4,
 "nbformat_minor": 4
}
