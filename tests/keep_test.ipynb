{
 "cells": [
  {
   "cell_type": "code",
   "execution_count": null,
   "metadata": {},
   "outputs": [],
   "source": [
    "import nbformat\n",
    "from common_nb_preprocessors.keep import TagsKeepPreproccesor"
   ]
  },
  {
   "cell_type": "code",
   "execution_count": null,
   "metadata": {},
   "outputs": [],
   "source": [
    "nb = nbformat.v4.new_notebook()\n",
    "valid_data = \"# keep code cell\"\n",
    "keep_tag = \"keep me\"\n",
    "\n",
    "nb.cells.append(nbformat.v4.new_code_cell(valid_data, metadata={\"tags\": [keep_tag]}))\n",
    "nb.cells.append(nbformat.v4.new_code_cell(\"# not this one\", metadata={\"tags\": [\"empty\"]}))\n",
    "\n",
    "nb, _ = TagsKeepPreproccesor(tags={keep_tag}).preprocess(nb, None)\n",
    "assert len(nb.cells) == 1\n",
    "assert nb.cells[0][\"source\"] == valid_data"
   ]
  },
  {
   "cell_type": "code",
   "execution_count": null,
   "metadata": {},
   "outputs": [],
   "source": [
    "valid_data = \"# keep code cell\"\n",
    "keep_tag = \"keep me\"\n",
    "nb = nbformat.v4.new_notebook()\n",
    "nb.cells.append(nbformat.v4.new_code_cell(valid_data, metadata={\"tags\": [keep_tag]}))\n",
    "nb.cells.append(nbformat.v4.new_code_cell(\"# not this one either\"))\n",
    "\n",
    "nb, _ = TagsKeepPreproccesor(tags={keep_tag}).preprocess(nb, None)\n",
    "assert nb.cells[0][\"source\"] == valid_data\n",
    "assert len(nb.cells) == 1"
   ]
  },
  {
   "cell_type": "code",
   "execution_count": null,
   "metadata": {},
   "outputs": [],
   "source": []
  }
 ],
 "metadata": {
  "interpreter": {
   "hash": "05f2350886d266e70edd864c564c977ac7c98315fddd300fde8321b4a54eb5e6"
  },
  "kernelspec": {
   "display_name": "Python 3.9.7 64-bit ('nb-metadata-injector-AZ1uIl8c-py3.9': poetry)",
   "language": "python",
   "name": "python3"
  },
  "language_info": {
   "codemirror_mode": {
    "name": "ipython",
    "version": 3
   },
   "file_extension": ".py",
   "mimetype": "text/x-python",
   "name": "python",
   "nbconvert_exporter": "python",
   "pygments_lexer": "ipython3",
   "version": "3.9.7"
  }
 },
 "nbformat": 4,
 "nbformat_minor": 2
}
