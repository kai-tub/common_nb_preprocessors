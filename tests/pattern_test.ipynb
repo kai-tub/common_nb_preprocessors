{
 "cells": [
  {
   "cell_type": "code",
   "execution_count": null,
   "metadata": {},
   "outputs": [],
   "source": [
    "from common_nb_preprocessors._patterns import build_prefixed_regex_pattern, build_prefixed_regex_pattern_with_value"
   ]
  },
  {
   "cell_type": "code",
   "execution_count": null,
   "metadata": {},
   "outputs": [],
   "source": [
    "pattern = build_prefixed_regex_pattern(\"#\", \"hide\")\n",
    "assert \"hide\" == pattern.search(\"#hide\").group(\"key\")\n",
    "assert \"hide\" == pattern.search(\"# hide\").group(\"key\")\n",
    "assert \"hide\" == pattern.search(\"#  hide\").group(\"key\")\n",
    "\n",
    "pattern2 = build_prefixed_regex_pattern_with_value(\"#\", \"default_exp\")\n",
    "assert \"default_exp\" == pattern2.search(\"# default_exp export_name\").group(\"key\")\n",
    "assert \"export_name\" == pattern2.search(\"# default_exp export_name\").group(\"value\")\n",
    "assert \"default_exp\" == pattern2.search(\"#default_exp export_name\").group(\"key\")\n",
    "assert \"default_exp\" == pattern2.search(\"#  default_exp export_name\").group(\"key\")\n",
    "\n",
    "pattern3 = build_prefixed_regex_pattern_with_value(\"#\", \"default_exp\", \"=\")\n",
    "assert \"default_exp\" == pattern3.search(\"# default_exp=export_name\").group(\"key\")\n",
    "assert \"export_name\" == pattern3.search(\"# default_exp=export_name\").group(\"value\")"
   ]
  },
  {
   "cell_type": "code",
   "execution_count": null,
   "metadata": {},
   "outputs": [],
   "source": []
  }
 ],
 "metadata": {
  "interpreter": {
   "hash": "05f2350886d266e70edd864c564c977ac7c98315fddd300fde8321b4a54eb5e6"
  },
  "kernelspec": {
   "display_name": "Python 3.9.7 64-bit ('nb-metadata-injector-AZ1uIl8c-py3.9': poetry)",
   "language": "python",
   "name": "python3"
  },
  "language_info": {
   "codemirror_mode": {
    "name": "ipython",
    "version": 3
   },
   "file_extension": ".py",
   "mimetype": "text/x-python",
   "name": "python",
   "nbconvert_exporter": "python",
   "pygments_lexer": "ipython3",
   "version": "3.9.7"
  }
 },
 "nbformat": 4,
 "nbformat_minor": 2
}
